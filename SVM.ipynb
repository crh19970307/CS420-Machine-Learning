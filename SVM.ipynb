{
 "cells": [
  {
   "cell_type": "code",
   "execution_count": 3,
   "metadata": {},
   "outputs": [],
   "source": [
    "import matplotlib.pyplot as plt\n",
    "import numpy as np\n",
    "% matplotlib inline\n",
    "from sklearn import datasets, svm, metrics\n",
    "from sklearn.model_selection import train_test_split\n",
    "from sklearn.decomposition import PCA\n",
    "\n"
   ]
  },
  {
   "cell_type": "code",
   "execution_count": 4,
   "metadata": {},
   "outputs": [],
   "source": [
    "n_samples = 60000\n",
    "fig_w = 45\n",
    "\n",
    "data = np.fromfile(\"mnist_train\\\\mnist_train_data\",dtype=np.uint8)\n",
    "X_train = data.reshape(n_samples, -1)[: 1000]\n",
    "# data = data.reshape(n_samples, fig_w, fig_w)\n",
    "\n",
    "Y_train = np.fromfile(\"mnist_train\\\\mnist_train_label\",dtype=np.uint8)[: 1000]\n",
    "\n",
    "X_test = np.fromfile(\"mnist_test\\\\mnist_test_data\",dtype=np.uint8).reshape(10000, -1)[: 500]\n",
    "Y_test = np.fromfile(\"mnist_test\\\\mnist_test_label\" ,dtype=np.uint8)[: 500]"
   ]
  },
  {
   "cell_type": "code",
   "execution_count": 5,
   "metadata": {},
   "outputs": [
    {
     "name": "stdout",
     "output_type": "stream",
     "text": [
      "52\n"
     ]
    }
   ],
   "source": [
    "pca = PCA(n_components=0.65)\n",
    "new_X_train = pca.fit_transform(X_train)\n",
    "print(pca.n_components_)\n",
    "new_X_test = pca.transform(X_test)"
   ]
  },
  {
   "cell_type": "code",
   "execution_count": 6,
   "metadata": {},
   "outputs": [
    {
     "data": {
      "text/plain": [
       "SVC(C=1.0, cache_size=200, class_weight=None, coef0=0.0,\n",
       "  decision_function_shape='ovr', degree=3, gamma='auto', kernel='linear',\n",
       "  max_iter=-1, probability=False, random_state=None, shrinking=True,\n",
       "  tol=0.001, verbose=False)"
      ]
     },
     "execution_count": 6,
     "metadata": {},
     "output_type": "execute_result"
    }
   ],
   "source": [
    "clf = svm.SVC(kernel='linear')\n",
    "clf.fit(X_train, Y_train)"
   ]
  },
  {
   "cell_type": "code",
   "execution_count": 7,
   "metadata": {},
   "outputs": [
    {
     "name": "stdout",
     "output_type": "stream",
     "text": [
      "             precision    recall  f1-score   support\n",
      "\n",
      "          0       0.35      0.35      0.35        52\n",
      "          1       0.37      0.78      0.50        49\n",
      "          2       0.07      0.10      0.08        39\n",
      "          3       0.16      0.11      0.13        45\n",
      "          4       0.22      0.17      0.19        58\n",
      "          5       0.23      0.20      0.22        49\n",
      "          6       0.15      0.10      0.12        49\n",
      "          7       0.30      0.33      0.31        52\n",
      "          8       0.21      0.14      0.17        58\n",
      "          9       0.11      0.08      0.09        49\n",
      "\n",
      "avg / total       0.22      0.24      0.22       500\n",
      "\n",
      "0.238\n"
     ]
    }
   ],
   "source": [
    "Y_pred = clf.predict(X_test)\n",
    "print(metrics.classification_report(Y_test, Y_pred))\n",
    "print(metrics.accuracy_score(Y_test, Y_pred))"
   ]
  },
  {
   "cell_type": "code",
   "execution_count": null,
   "metadata": {},
   "outputs": [],
   "source": []
  },
  {
   "cell_type": "markdown",
   "metadata": {},
   "source": [
    "The multiclass support is handled according to a one-vs-one scheme. (sklearn document)"
   ]
  },
  {
   "cell_type": "code",
   "execution_count": null,
   "metadata": {},
   "outputs": [],
   "source": []
  }
 ],
 "metadata": {
  "kernelspec": {
   "display_name": "Python 3",
   "language": "python",
   "name": "python3"
  },
  "language_info": {
   "codemirror_mode": {
    "name": "ipython",
    "version": 3
   },
   "file_extension": ".py",
   "mimetype": "text/x-python",
   "name": "python",
   "nbconvert_exporter": "python",
   "pygments_lexer": "ipython3",
   "version": "3.5.2"
  }
 },
 "nbformat": 4,
 "nbformat_minor": 2
}
